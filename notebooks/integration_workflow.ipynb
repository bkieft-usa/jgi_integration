{
 "cells": [
  {
   "cell_type": "code",
   "execution_count": null,
   "id": "6c08940a",
   "metadata": {},
   "outputs": [],
   "source": [
    "import os\n",
    "import sys\n",
    "import yaml\n",
    "import tools.objects as objs\n",
    "\n",
    "with open(\"/home/jovyan/work/input_data/config/project_config.yml\", 'r') as file:\n",
    "    config = yaml.safe_load(file)"
   ]
  },
  {
   "cell_type": "code",
   "execution_count": null,
   "id": "0dca1029",
   "metadata": {},
   "outputs": [],
   "source": [
    "# Initialize project\n",
    "project = objs.Project(config)"
   ]
  },
  {
   "cell_type": "code",
   "execution_count": null,
   "id": "b44d8f78",
   "metadata": {},
   "outputs": [],
   "source": [
    "# Create datasets (which hold raw data and metadata)\n",
    "tx_dataset = objs.TX(project, overwrite=True)\n",
    "mx_dataset = objs.MX(project, overwrite=True)"
   ]
  },
  {
   "cell_type": "code",
   "execution_count": null,
   "id": "dc01349a",
   "metadata": {},
   "outputs": [],
   "source": [
    "# Create analysis (collection of datasets and methods for performing integration)\n",
    "analysis = objs.Analysis(project, datasets=[tx_dataset, mx_dataset], overwrite=True)"
   ]
  },
  {
   "cell_type": "code",
   "execution_count": null,
   "id": "9ff3adf0",
   "metadata": {},
   "outputs": [],
   "source": [
    "# Get metadata and data from disk, cache, or generate from source\n",
    "tx_dataset.get_raw_metadata(overwrite=False)\n",
    "tx_dataset.get_raw_data(overwrite=False)\n",
    "mx_dataset.get_raw_metadata(overwrite=False)\n",
    "mx_dataset.get_raw_data(overwrite=False)"
   ]
  },
  {
   "cell_type": "code",
   "execution_count": null,
   "id": "16ffaf97",
   "metadata": {},
   "outputs": [],
   "source": [
    "# Link analysis datasets by finding corresponding samples and metadata\n",
    "analysis.link_metadata(overwrite=False)\n",
    "analysis.link_data(overwrite=False)"
   ]
  },
  {
   "cell_type": "code",
   "execution_count": null,
   "id": "03f2a767",
   "metadata": {},
   "outputs": [],
   "source": [
    "# Filter out rare features from analysis datasets based on minimum observed value or proportion of missing values across samples\n",
    "analysis.filter_all_datasets(overwrite=False)"
   ]
  },
  {
   "cell_type": "code",
   "execution_count": null,
   "id": "c917345c",
   "metadata": {},
   "outputs": [],
   "source": [
    "# Filter out features from analysis datasets that were not impacted by experimentation based on low variance across samples\n",
    "analysis.devariance_all_datasets(overwrite=False)"
   ]
  },
  {
   "cell_type": "code",
   "execution_count": null,
   "id": "374a6101",
   "metadata": {},
   "outputs": [],
   "source": [
    "# Scale features in all analysis datasets to a shared, normalized distribution\n",
    "analysis.scale_all_datasets(overwrite=False)"
   ]
  },
  {
   "cell_type": "code",
   "execution_count": null,
   "id": "ede00dbd",
   "metadata": {},
   "outputs": [],
   "source": [
    "# Filter out features from analysis datasets based on low within-replicate reproducibility\n",
    "analysis.replicability_test_all_datasets(overwrite=False)"
   ]
  },
  {
   "cell_type": "code",
   "execution_count": null,
   "id": "73af3d32",
   "metadata": {},
   "outputs": [],
   "source": [
    "# Check data distributions after all normalization steps\n",
    "analysis.plot_dataset_distributions(show_plot=True)"
   ]
  },
  {
   "cell_type": "code",
   "execution_count": null,
   "id": "bd01c4e7-922f-45e9-8d27-37105e58a737",
   "metadata": {},
   "outputs": [],
   "source": [
    "# Check dimension reduction plots after data normalization steps\n",
    "analysis.plot_pca_all_datasets(overwrite=False)"
   ]
  },
  {
   "cell_type": "code",
   "execution_count": null,
   "id": "db836c5d",
   "metadata": {},
   "outputs": [],
   "source": [
    "# Perform dataset integration of linked metadata and data\n",
    "analysis.integrate_metadata(overwrite=False)\n",
    "analysis.integrate_data(overwrite=False)"
   ]
  },
  {
   "cell_type": "code",
   "execution_count": null,
   "id": "1046b67e-ba2e-4d04-ba0e-828e3e728f00",
   "metadata": {},
   "outputs": [],
   "source": [
    "# Subset features using statistical tests\n",
    "analysis.perform_feature_selection(overwrite=False)"
   ]
  },
  {
   "cell_type": "code",
   "execution_count": null,
   "id": "34c28c66",
   "metadata": {},
   "outputs": [],
   "source": [
    "# Calculate correlations with custom parameters\n",
    "analysis.calculate_correlated_features(overwrite=True)"
   ]
  },
  {
   "cell_type": "code",
   "execution_count": null,
   "id": "4c0eed09",
   "metadata": {},
   "outputs": [],
   "source": [
    "# Plot correlation network\n",
    "analysis.plot_correlation_network(overwrite=True)"
   ]
  },
  {
   "cell_type": "code",
   "execution_count": null,
   "id": "cce59922-578d-4ea8-866b-2b3fa047c7ed",
   "metadata": {},
   "outputs": [],
   "source": [
    "# Run multi-omics factor analysis\n",
    "analysis.run_mofa2_analysis(overwrite=False)"
   ]
  }
 ],
 "metadata": {
  "kernelspec": {
   "display_name": "JGI Integration",
   "language": "python",
   "name": "jgi-integration"
  },
  "language_info": {
   "codemirror_mode": {
    "name": "ipython",
    "version": 3
   },
   "file_extension": ".py",
   "mimetype": "text/x-python",
   "name": "python",
   "nbconvert_exporter": "python",
   "pygments_lexer": "ipython3",
   "version": "3.11.6"
  }
 },
 "nbformat": 4,
 "nbformat_minor": 5
}
