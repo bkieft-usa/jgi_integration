{
 "cells": [
  {
   "cell_type": "code",
   "execution_count": null,
   "id": "6c08940a",
   "metadata": {},
   "outputs": [],
   "source": [
    "import os\n",
    "import sys\n",
    "import yaml\n",
    "import tools.objects as objs\n",
    "import tools.helpers as hlp"
   ]
  },
  {
   "cell_type": "code",
   "execution_count": null,
   "id": "c881590b-14e1-4dd2-b805-62e39acc6b57",
   "metadata": {},
   "outputs": [],
   "source": [
    "# Optional: list all configurations available to load with the 'config_path' argument below\n",
    "hlp.list_project_configs()"
   ]
  },
  {
   "cell_type": "code",
   "execution_count": null,
   "id": "33444c3d-beb8-4e5d-8ab0-8408d20da77c",
   "metadata": {},
   "outputs": [],
   "source": [
    "# Select configuration file for run (leave config_path=None for default or insert direct path)\n",
    "config = hlp.load_project_config(config_path=None)"
   ]
  },
  {
   "cell_type": "code",
   "execution_count": null,
   "id": "0dca1029",
   "metadata": {},
   "outputs": [],
   "source": [
    "# Initialize project\n",
    "project = objs.Project(config)"
   ]
  },
  {
   "cell_type": "code",
   "execution_count": null,
   "id": "b44d8f78",
   "metadata": {},
   "outputs": [],
   "source": [
    "# Create dataset objects and gather raw metadata and data (already pre-obtained from source)\n",
    "tx_dataset = objs.TX(project, overwrite=False)\n",
    "mx_dataset = objs.MX(project, overwrite=False, last=True)"
   ]
  },
  {
   "cell_type": "code",
   "execution_count": null,
   "id": "dc01349a",
   "metadata": {},
   "outputs": [],
   "source": [
    "# Create analysis object (collection of datasets and methods for performing integration)\n",
    "analysis = objs.Analysis(project, datasets=[tx_dataset, mx_dataset], overwrite=False)"
   ]
  },
  {
   "cell_type": "code",
   "execution_count": null,
   "id": "16ffaf97",
   "metadata": {},
   "outputs": [],
   "source": [
    "# Link analysis datasets by finding corresponding sample metadata fields\n",
    "analysis.link_metadata(overwrite=False)"
   ]
  },
  {
   "cell_type": "code",
   "execution_count": null,
   "id": "77cf80bf-800c-4f97-94a0-af9467e279e3",
   "metadata": {},
   "outputs": [],
   "source": [
    "# Link analysis datasets matrices by using linked metadata\n",
    "analysis.link_data(overwrite=False)"
   ]
  },
  {
   "cell_type": "code",
   "execution_count": null,
   "id": "03f2a767",
   "metadata": {},
   "outputs": [],
   "source": [
    "# Filter out rare features from analysis datasets based on minimum observed value or proportion of missing values across samples\n",
    "analysis.filter_all_datasets(overwrite=False)"
   ]
  },
  {
   "cell_type": "code",
   "execution_count": null,
   "id": "c917345c",
   "metadata": {},
   "outputs": [],
   "source": [
    "# Filter out features from analysis datasets that were not impacted by experimentation based on low variance across samples\n",
    "analysis.devariance_all_datasets(overwrite=False)"
   ]
  },
  {
   "cell_type": "code",
   "execution_count": null,
   "id": "374a6101",
   "metadata": {},
   "outputs": [],
   "source": [
    "# Scale features in all analysis datasets to a shared, normalized distribution\n",
    "analysis.scale_all_datasets(overwrite=False)"
   ]
  },
  {
   "cell_type": "code",
   "execution_count": null,
   "id": "ede00dbd",
   "metadata": {},
   "outputs": [],
   "source": [
    "# Filter out features from analysis datasets based on low within-replicate reproducibility\n",
    "analysis.replicability_test_all_datasets(overwrite=False)"
   ]
  },
  {
   "cell_type": "code",
   "execution_count": null,
   "id": "73af3d32",
   "metadata": {},
   "outputs": [],
   "source": [
    "# Check data distributions after all normalization steps\n",
    "analysis.plot_dataset_distributions(show_plot=True)"
   ]
  },
  {
   "cell_type": "code",
   "execution_count": null,
   "id": "bd01c4e7-922f-45e9-8d27-37105e58a737",
   "metadata": {},
   "outputs": [],
   "source": [
    "# Check dimension reduction plots after data normalization steps\n",
    "analysis.plot_pca_all_datasets(overwrite=False)"
   ]
  },
  {
   "cell_type": "code",
   "execution_count": null,
   "id": "db836c5d",
   "metadata": {},
   "outputs": [],
   "source": [
    "# Integrate metadata tables by overlapping samples\n",
    "analysis.integrate_metadata(overwrite=False)"
   ]
  },
  {
   "cell_type": "code",
   "execution_count": null,
   "id": "ec9d8b78-976d-48cc-af06-f4774efe3ddb",
   "metadata": {},
   "outputs": [],
   "source": [
    "# Integrate data matrices by overlapping samples\n",
    "analysis.integrate_data(overwrite=False)"
   ]
  },
  {
   "cell_type": "code",
   "execution_count": null,
   "id": "28c65756-2fdd-40ac-b6ea-d06293b17b54",
   "metadata": {},
   "outputs": [],
   "source": [
    "# Annotate the integrated features with pre-generated feature annotation tables\n",
    "analysis.annotate_integrated_features(overwrite=False)"
   ]
  },
  {
   "cell_type": "code",
   "execution_count": null,
   "id": "1046b67e-ba2e-4d04-ba0e-828e3e728f00",
   "metadata": {},
   "outputs": [],
   "source": [
    "# Subset features using statistical tests\n",
    "analysis.perform_feature_selection(overwrite=False)"
   ]
  },
  {
   "cell_type": "code",
   "execution_count": null,
   "id": "34c28c66",
   "metadata": {},
   "outputs": [],
   "source": [
    "# Calculate correlations with custom parameters\n",
    "analysis.calculate_correlated_features(overwrite=False)"
   ]
  },
  {
   "cell_type": "code",
   "execution_count": null,
   "id": "4c0eed09",
   "metadata": {},
   "outputs": [],
   "source": [
    "# Plot correlation network\n",
    "analysis.plot_correlation_network(overwrite=False)"
   ]
  },
  {
   "cell_type": "code",
   "execution_count": null,
   "id": "142af4f4-09f9-4cf3-a87d-ad5ae9f860dd",
   "metadata": {},
   "outputs": [],
   "source": [
    "# Assess enrichment of an annotation layer in the extracted submodules\n",
    "analysis.perform_functional_enrichment(overwrite=False)"
   ]
  },
  {
   "cell_type": "code",
   "execution_count": null,
   "id": "cce59922-578d-4ea8-866b-2b3fa047c7ed",
   "metadata": {},
   "outputs": [],
   "source": [
    "# Run multi-omics factor analysis\n",
    "analysis.run_mofa2_analysis(overwrite=False)"
   ]
  },
  {
   "cell_type": "code",
   "execution_count": null,
   "id": "d7e1657c-fcac-4bd3-9d88-232658b6f8ef",
   "metadata": {},
   "outputs": [],
   "source": [
    "# Save persistent configuration and notebook files\n",
    "project.save_persistent_config_and_notebook()"
   ]
  }
 ],
 "metadata": {
  "kernelspec": {
   "display_name": "JGI Integration",
   "language": "python",
   "name": "jgi-integration"
  },
  "language_info": {
   "codemirror_mode": {
    "name": "ipython",
    "version": 3
   },
   "file_extension": ".py",
   "mimetype": "text/x-python",
   "name": "python",
   "nbconvert_exporter": "python",
   "pygments_lexer": "ipython3",
   "version": "3.11.6"
  }
 },
 "nbformat": 4,
 "nbformat_minor": 5
}
