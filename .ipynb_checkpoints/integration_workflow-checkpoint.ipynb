{
 "cells": [
  {
   "cell_type": "code",
   "execution_count": null,
   "id": "6c08940a",
   "metadata": {},
   "outputs": [],
   "source": [
    "import os\n",
    "import sys\n",
    "import yaml\n",
    "\n",
    "config_file = \"project_config_508469.yaml\"\n",
    "config_path = \"/home/jgi_user/configs\"\n",
    "config_fname = os.path.join(config_path, config_file)\n",
    "\n",
    "with open(config_fname, 'r') as file:\n",
    "    config = yaml.safe_load(file)\n",
    "print(f\"Using config file: {config_fname}\")\n",
    "\n",
    "#sys.path.insert(0, \"/home/jgi_user/tools\")\n",
    "import tools.objects as objs"
   ]
  },
  {
   "cell_type": "code",
   "execution_count": null,
   "id": "0dca1029",
   "metadata": {},
   "outputs": [],
   "source": [
    "# Initialize project\n",
    "project = objs.Project(config)"
   ]
  },
  {
   "cell_type": "code",
   "execution_count": null,
   "id": "b44d8f78",
   "metadata": {},
   "outputs": [],
   "source": [
    "# Create datasets (which hold raw data and metadata)\n",
    "tx_dataset = objs.TX(project, clear_dataset_dir=False)\n",
    "mx_dataset = objs.MX(project, clear_dataset_dir=False)"
   ]
  },
  {
   "cell_type": "code",
   "execution_count": null,
   "id": "dc01349a",
   "metadata": {},
   "outputs": [],
   "source": [
    "# Create analysis (collection of datasets and methods for performing integration)\n",
    "analysis = objs.Analysis(project, datasets=[tx_dataset, mx_dataset], clear_analysis_dir=False)"
   ]
  },
  {
   "cell_type": "code",
   "execution_count": null,
   "id": "9ff3adf0",
   "metadata": {},
   "outputs": [],
   "source": [
    "# Get metadata and data from disk, cache, or generate from source\n",
    "tx_dataset.get_raw_metadata(overwrite=False)\n",
    "tx_dataset.get_raw_data(overwrite=False)\n",
    "mx_dataset.get_raw_metadata(overwrite=False)\n",
    "mx_dataset.get_raw_data(overwrite=False)"
   ]
  },
  {
   "cell_type": "code",
   "execution_count": null,
   "id": "16ffaf97",
   "metadata": {},
   "outputs": [],
   "source": [
    "# Link analysis datasets by finding corresponding samples and metadata\n",
    "analysis.link_metadata(overwrite=False)\n",
    "analysis.link_data(overwrite=False)"
   ]
  },
  {
   "cell_type": "code",
   "execution_count": null,
   "id": "03f2a767",
   "metadata": {},
   "outputs": [],
   "source": [
    "# Filter out rare features from analysis datasets based on minimum observed value or proportion of missing values across samples\n",
    "analysis.filter_all_datasets(overwrite=False)"
   ]
  },
  {
   "cell_type": "code",
   "execution_count": null,
   "id": "c917345c",
   "metadata": {},
   "outputs": [],
   "source": [
    "# Filter out features from analysis datasets that were not impacted by experimentation based on low variance across samples\n",
    "analysis.devariance_all_datasets(overwrite=False)"
   ]
  },
  {
   "cell_type": "code",
   "execution_count": null,
   "id": "374a6101",
   "metadata": {},
   "outputs": [],
   "source": [
    "# Scale features in all analysis datasets to a shared, normalized distribution\n",
    "analysis.scale_all_datasets(overwrite=False)"
   ]
  },
  {
   "cell_type": "code",
   "execution_count": null,
   "id": "ede00dbd",
   "metadata": {},
   "outputs": [],
   "source": [
    "# Filter out features from analysis datasets based on low within-replicate reproducibility\n",
    "analysis.replicability_test_all_datasets(overwrite=False)"
   ]
  },
  {
   "cell_type": "code",
   "execution_count": null,
   "id": "db836c5d",
   "metadata": {},
   "outputs": [],
   "source": [
    "# Perform dataset integration of linked metadata and data\n",
    "analysis.integrate_metadata(overwrite=False)\n",
    "analysis.integrate_data(overwrite=False)"
   ]
  },
  {
   "cell_type": "code",
   "execution_count": null,
   "id": "34c28c66",
   "metadata": {},
   "outputs": [],
   "source": [
    "# Calculate correlations with custom parameters\n",
    "analysis.calculate_correlated_features(overwrite=False)"
   ]
  },
  {
   "cell_type": "code",
   "execution_count": null,
   "id": "3c5391f2",
   "metadata": {},
   "outputs": [],
   "source": [
    "# Subset features for network analysis\n",
    "analysis.subset_features_before_network_analysis(overwrite=False)"
   ]
  },
  {
   "cell_type": "code",
   "execution_count": null,
   "id": "4c0eed09",
   "metadata": {},
   "outputs": [],
   "source": [
    "# Plot correlation network\n",
    "analysis.plot_correlation_network(overwrite=False)"
   ]
  }
 ],
 "metadata": {
  "kernelspec": {
   "display_name": "mxtx2",
   "language": "python",
   "name": "python3"
  },
  "language_info": {
   "codemirror_mode": {
    "name": "ipython",
    "version": 3
   },
   "file_extension": ".py",
   "mimetype": "text/x-python",
   "name": "python",
   "nbconvert_exporter": "python",
   "pygments_lexer": "ipython3",
   "version": "3.13.0"
  }
 },
 "nbformat": 4,
 "nbformat_minor": 5
}
